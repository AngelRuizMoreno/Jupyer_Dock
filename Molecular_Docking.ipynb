{
 "cells": [
  {
   "cell_type": "code",
   "execution_count": 3,
   "id": "f7d07273-f18b-471d-8cf3-3ccbaf2beacd",
   "metadata": {},
   "outputs": [],
   "source": [
    "from pymol import cmd\n",
    "import py3Dmol\n",
    "\n",
    "from vina import Vina\n",
    "\n",
    "from openbabel import pybel\n",
    "\n",
    "from pdbfixer import PDBFixer\n",
    "from simtk.openmm.app import PDBFile\n",
    "\n",
    "from rdkit import Chem\n",
    "from rdkit.Chem import AllChem,rdFMCS, Draw\n",
    "\n",
    "import MDAnalysis as mda\n",
    "from MDAnalysis.coordinates import PDBQT\n",
    "\n",
    "import prolif as plf\n",
    "from prolif.plotting.network import LigNetwork\n",
    "    \n",
    "%config Completer.use_jedi = False"
   ]
  },
  {
   "cell_type": "code",
   "execution_count": null,
   "id": "6892a1fb-32da-42d6-97e9-01c75e76da91",
   "metadata": {},
   "outputs": [],
   "source": [
    "#!wget http://mgltools.scripps.edu/downloads/previous-releases/downloads/tars/releases/nightly/1.0/REL/NewLinux/ADFRsuite_x86_64Linux_1.0.tar.gz\n",
    "#!tar zxf ADFRsuite_x86_64Linux_1.0.tar.gz\n",
    "#!mkdir ADFRsuite\n",
    "#!cd ADFRsuite_x86_64Linux_1.0\n",
    "#!/install.sh -d ../ADFRSuite -c 0\n",
    "#!export PATH=/mnt/c/Users/angel/Desktop/Reverse_docking_vina/ADFRsuite/bin:$PATH"
   ]
  },
  {
   "cell_type": "code",
   "execution_count": null,
   "id": "050514b3-d554-43ab-ba1e-62c1cb95458b",
   "metadata": {},
   "outputs": [],
   "source": [
    "cmd.fetch(code='1IEP',type='pdb1')\n",
    "cmd.select(name='Prot',selection='polymer.protein')\n",
    "cmd.h_add(selection='all')\n",
    "cmd.select(name='Lig',selection='organic')\n",
    "cmd.save(filename='1AZ8_clean.pdb',format='pdb',selection='Prot')\n",
    "cmd.save(filename='1AZ8_lig.mol2',format='mol2',selection='Lig')"
   ]
  },
  {
   "cell_type": "code",
   "execution_count": null,
   "id": "df432a26-3df2-4d9b-8847-03aa6d9c856b",
   "metadata": {},
   "outputs": [],
   "source": [
    "!ADFRSuite/bin/prepare_receptor -v -r 1AZ8_clean.pdb -A hydrogens -o 1AZ8_clean.pdbqt"
   ]
  },
  {
   "cell_type": "code",
   "execution_count": null,
   "id": "c461429c-3036-43a0-8ec9-ba3e854c045f",
   "metadata": {},
   "outputs": [],
   "source": [
    "m=Chem.MolFromMol2File('1AZ8_lig.mol2',False)\n",
    "Draw.MolToImage(m)"
   ]
  },
  {
   "cell_type": "code",
   "execution_count": null,
   "id": "3076da38-9420-4e3c-8bb9-4c99eae74f27",
   "metadata": {},
   "outputs": [],
   "source": [
    "mol= [m for m in pybel.readfile(filename='1AZ8_lig.mol2',format='mol2')][0]\n",
    "mol.addh()\n",
    "out=pybel.Outputfile(filename='1AZ8_lig.mol2',format='mol2',overwrite=True)\n",
    "out.write(mol)\n",
    "out.close()"
   ]
  },
  {
   "cell_type": "code",
   "execution_count": null,
   "id": "8473f062-aade-45ca-a18b-463545341c41",
   "metadata": {},
   "outputs": [],
   "source": [
    "m=Chem.MolFromMol2File('1AZ8_lig.mol2')\n",
    "m"
   ]
  },
  {
   "cell_type": "code",
   "execution_count": null,
   "id": "df120aae-93d7-4f0e-b7d7-9a4a3c9770b9",
   "metadata": {},
   "outputs": [],
   "source": [
    "!ADFRSuite/bin/prepare_ligand -v -l 1AZ8_lig.mol2 -o 1AZ8_lig.pdbqt"
   ]
  },
  {
   "cell_type": "code",
   "execution_count": null,
   "id": "232d98b2-97b8-4a3f-be74-d3b7780c0d7a",
   "metadata": {},
   "outputs": [],
   "source": [
    "view = py3Dmol.view()\n",
    "view.removeAllModels()\n",
    "view.setViewStyle({'style':'outline','color':'black','width':0.2})\n",
    "\n",
    "view.addModel(open('1AZ8_clean.pdb','r').read(),'pdb')\n",
    "Prot=view.getModel()\n",
    "Prot.setStyle({'cartoon':{'arrows':True, 'tubes':True, 'style':'oval', 'color':'white'}})\n",
    "view.addSurface(py3Dmol.VDW,{'opacity':0.6,'color':'white'})\n",
    "\n",
    "view.addModel(open('1AZ8_lig.mol2','r').read(),'mol2')\n",
    "IN4 = view.getModel()\n",
    "IN4.setStyle({},{'stick':{'colorscheme':'greenCarbon','radius':0.1}})\n",
    "\n",
    "view.zoomTo()\n",
    "view.show()"
   ]
  },
  {
   "cell_type": "code",
   "execution_count": null,
   "id": "18c46d1e-8c06-4578-a3a1-89b76e3107e7",
   "metadata": {},
   "outputs": [],
   "source": [
    "def getbox(selection = \"sele\", extending = 6.0, software='vina'):                                                                                             \n",
    "    ([minX, minY, minZ],[maxX, maxY, maxZ]) = cmd.get_extent(selection)\n",
    "    minX = minX - float(extending)\n",
    "    minY = minY - float(extending)\n",
    "    minZ = minZ - float(extending)\n",
    "    maxX = maxX + float(extending)\n",
    "    maxY = maxY + float(extending)\n",
    "    maxZ = maxZ + float(extending)\n",
    "    \n",
    "    SizeX = maxX - minX\n",
    "    SizeY = maxY - minY\n",
    "    SizeZ = maxZ - minZ\n",
    "    CenterX =  (maxX + minX)/2\n",
    "    CenterY =  (maxY + minY)/2\n",
    "    CenterZ =  (maxZ + minZ)/2\n",
    "    if software == 'vina':\n",
    "        return {'center_x':CenterX,'center_y': CenterY, 'center_z': CenterZ},{'size_x':SizeX,'size_y': SizeY,'size_z': SizeZ}\n",
    "    elif software == 'ledock':\n",
    "        return {'minX':minX, 'maxX': maxX},{'minY':minY, 'maxY':maxY}, {'minZ':minZ,'maxZ':maxZ}\n",
    "    elif software == 'both':\n",
    "        return ({'center_x':CenterX,'center_y': CenterY, 'center_z': CenterZ},{'size_x':SizeX,'size_y': SizeY,'size_z': SizeZ}),({'minX':minX, 'maxX': maxX},{'minY':minY, 'maxY':maxY}, {'minZ':minZ,'maxZ':maxZ})\n",
    "    \n",
    "    else:\n",
    "        print('software options must be \"vina\", \"ledock\" or \"both\"')"
   ]
  },
  {
   "cell_type": "code",
   "execution_count": null,
   "id": "04e77d14-0671-4b27-8132-9265031425d7",
   "metadata": {},
   "outputs": [],
   "source": [
    "box_center,box_size=getbox(selection='Lig',extending=5.0,software='vina')\n",
    "print(box_center,'\\n',box_size)"
   ]
  },
  {
   "cell_type": "code",
   "execution_count": null,
   "id": "bf7deb18-d861-4b21-a3c1-1248649efa17",
   "metadata": {},
   "outputs": [],
   "source": [
    "v = Vina(sf_name='vina')\n",
    "\n",
    "v.set_receptor('1AZ8_clean.pdbqt')\n",
    "\n",
    "v.set_ligand_from_file('1AZ8_lig.pdbqt')\n",
    "\n",
    "v.compute_vina_maps(center=[box_center['center_x'], box_center['center_y'], box_center['center_z']], \n",
    "                    box_size=[box_size['size_x'], box_size['size_y'], box_size['size_z']])\n",
    "\n",
    "'''\n",
    "# Score the current pose\n",
    "energy = v.score()\n",
    "print('Score before minimization: %.3f (kcal/mol)' % energy[0])\n",
    "\n",
    "# Minimized locally the current pose\n",
    "energy_minimized = v.optimize()\n",
    "print('Score after minimization : %.3f (kcal/mol)' % energy_minimized[0])\n",
    "v.write_pose('1AZ8_ligand_minimized.pdbqt', overwrite=True)\n",
    "'''\n",
    "\n",
    "# Dock the ligand\n",
    "v.dock(exhaustiveness=8, n_poses=10)\n",
    "v.write_poses('1AZ8_ligand_vina_out.pdbqt', n_poses=5, overwrite=True)"
   ]
  },
  {
   "cell_type": "code",
   "execution_count": null,
   "id": "1b8121d0-2485-4865-8cd3-10c945aad530",
   "metadata": {},
   "outputs": [],
   "source": [
    "results = [m for m in pybel.readfile(filename='1AZ8_ligand_vina_out.pdbqt',format='pdbqt')]\n",
    "out=pybel.Outputfile(filename='1AZ8_ligand_vina_out.sdf',format='sdf',overwrite=True)\n",
    "for pose in results:\n",
    "    pose.addh()\n",
    "    out.write(pose)\n",
    "out.close()"
   ]
  },
  {
   "cell_type": "code",
   "execution_count": null,
   "id": "15c19b00-8ba7-4733-86b5-7bbada800a40",
   "metadata": {},
   "outputs": [],
   "source": [
    "results=Chem.SDMolSupplier('1AZ8_ligand_vina_out.sdf')\n",
    "\n",
    "view = py3Dmol.view()\n",
    "view.removeAllModels()\n",
    "view.setViewStyle({'style':'outline','color':'black','width':0.2})\n",
    "\n",
    "view.addModel(open('1AZ8_clean.pdbqt','r').read(),'pdb')\n",
    "Prot=view.getModel()\n",
    "Prot.setStyle({'cartoon':{'arrows':True, 'tubes':True, 'style':'oval', 'color':'white'}})\n",
    "view.addSurface(py3Dmol.VDW,{'opacity':0.6,'color':'white'})\n",
    "\n",
    "view.addModel(open('1AZ8_lig.mol2','r').read(),'mol2')\n",
    "IN4 = view.getModel()\n",
    "IN4.setStyle({},{'stick':{'colorscheme':'greenCarbon','radius':0.2}})\n",
    "\n",
    "\n",
    "pose_1=Chem.MolToMolBlock(results[0])\n",
    "print ('Pose: {} | Score: {} \\n'.format(results[0].GetProp('MODEL'),results[0].GetProp('REMARK')))\n",
    "\n",
    "print('Reference: Green | Docking Pose: Purple')\n",
    "\n",
    "view.addModel(pose_1,'mol')\n",
    "x = view.getModel()\n",
    "x.setStyle({},{'stick':{'colorscheme':'purpleCarbon','radius':0.2}})\n",
    "\n",
    "view.zoomTo()\n",
    "view.show()"
   ]
  },
  {
   "cell_type": "code",
   "execution_count": 6,
   "id": "089b321d-63d1-46f2-96f1-abdd2dfb00f9",
   "metadata": {},
   "outputs": [
    {
     "name": "stderr",
     "output_type": "stream",
     "text": [
      "RDKit ERROR: [01:12:18] Explicit valence for atom # 1132 H, 2, is greater than permitted\n"
     ]
    },
    {
     "ename": "AtomValenceException",
     "evalue": "Explicit valence for atom # 1132 H, 2, is greater than permitted",
     "output_type": "error",
     "traceback": [
      "\u001b[0;31m---------------------------------------------------------------------------\u001b[0m",
      "\u001b[0;31mAtomValenceException\u001b[0m                      Traceback (most recent call last)",
      "\u001b[0;32m<ipython-input-6-986f4cfb2eab>\u001b[0m in \u001b[0;36m<module>\u001b[0;34m\u001b[0m\n\u001b[1;32m      1\u001b[0m \u001b[0;31m# load protein\u001b[0m\u001b[0;34m\u001b[0m\u001b[0;34m\u001b[0m\u001b[0;34m\u001b[0m\u001b[0m\n\u001b[1;32m      2\u001b[0m \u001b[0mprot\u001b[0m \u001b[0;34m=\u001b[0m \u001b[0mmda\u001b[0m\u001b[0;34m.\u001b[0m\u001b[0mUniverse\u001b[0m\u001b[0;34m(\u001b[0m\u001b[0;34m\"1AZ8_clean.pdb\"\u001b[0m\u001b[0;34m,\u001b[0m\u001b[0mguess_bonds\u001b[0m\u001b[0;34m=\u001b[0m\u001b[0;32mTrue\u001b[0m\u001b[0;34m)\u001b[0m\u001b[0;34m\u001b[0m\u001b[0;34m\u001b[0m\u001b[0m\n\u001b[0;32m----> 3\u001b[0;31m \u001b[0mprot\u001b[0m \u001b[0;34m=\u001b[0m \u001b[0mplf\u001b[0m\u001b[0;34m.\u001b[0m\u001b[0mMolecule\u001b[0m\u001b[0;34m.\u001b[0m\u001b[0mfrom_mda\u001b[0m\u001b[0;34m(\u001b[0m\u001b[0mprot\u001b[0m\u001b[0;34m)\u001b[0m\u001b[0;34m\u001b[0m\u001b[0;34m\u001b[0m\u001b[0m\n\u001b[0m\u001b[1;32m      4\u001b[0m \u001b[0mprot\u001b[0m\u001b[0;34m.\u001b[0m\u001b[0mn_residues\u001b[0m\u001b[0;34m\u001b[0m\u001b[0;34m\u001b[0m\u001b[0m\n",
      "\u001b[0;32m/mnt/c/Users/angel/Linux_programs/miniconda3/envs/AnalysisMD/lib/python3.7/site-packages/prolif/molecule.py\u001b[0m in \u001b[0;36mfrom_mda\u001b[0;34m(cls, obj, selection, **kwargs)\u001b[0m\n\u001b[1;32m    113\u001b[0m             raise mda.SelectionError(\n\u001b[1;32m    114\u001b[0m                 f\"AtomGroup is empty, please check your selection\")\n\u001b[0;32m--> 115\u001b[0;31m         \u001b[0mmol\u001b[0m \u001b[0;34m=\u001b[0m \u001b[0mag\u001b[0m\u001b[0;34m.\u001b[0m\u001b[0mconvert_to\u001b[0m\u001b[0;34m.\u001b[0m\u001b[0mrdkit\u001b[0m\u001b[0;34m(\u001b[0m\u001b[0;34m**\u001b[0m\u001b[0mkwargs\u001b[0m\u001b[0;34m)\u001b[0m\u001b[0;34m\u001b[0m\u001b[0;34m\u001b[0m\u001b[0m\n\u001b[0m\u001b[1;32m    116\u001b[0m         \u001b[0;32mreturn\u001b[0m \u001b[0mcls\u001b[0m\u001b[0;34m(\u001b[0m\u001b[0mmol\u001b[0m\u001b[0;34m)\u001b[0m\u001b[0;34m\u001b[0m\u001b[0;34m\u001b[0m\u001b[0m\n\u001b[1;32m    117\u001b[0m \u001b[0;34m\u001b[0m\u001b[0m\n",
      "\u001b[0;32m/mnt/c/Users/angel/Linux_programs/miniconda3/envs/AnalysisMD/lib/python3.7/site-packages/MDAnalysis/converters/RDKit.py\u001b[0m in \u001b[0;36mconvert\u001b[0;34m(self, obj, cache, NoImplicit, max_iter, force)\u001b[0m\n\u001b[1;32m    308\u001b[0m         \u001b[0mkwargs\u001b[0m \u001b[0;34m=\u001b[0m \u001b[0mdict\u001b[0m\u001b[0;34m(\u001b[0m\u001b[0mNoImplicit\u001b[0m\u001b[0;34m=\u001b[0m\u001b[0mNoImplicit\u001b[0m\u001b[0;34m,\u001b[0m \u001b[0mmax_iter\u001b[0m\u001b[0;34m=\u001b[0m\u001b[0mmax_iter\u001b[0m\u001b[0;34m,\u001b[0m \u001b[0mforce\u001b[0m\u001b[0;34m=\u001b[0m\u001b[0mforce\u001b[0m\u001b[0;34m)\u001b[0m\u001b[0;34m\u001b[0m\u001b[0;34m\u001b[0m\u001b[0m\n\u001b[1;32m    309\u001b[0m         \u001b[0;32mif\u001b[0m \u001b[0mcache\u001b[0m\u001b[0;34m:\u001b[0m\u001b[0;34m\u001b[0m\u001b[0;34m\u001b[0m\u001b[0m\n\u001b[0;32m--> 310\u001b[0;31m             \u001b[0mmol\u001b[0m \u001b[0;34m=\u001b[0m \u001b[0matomgroup_to_mol\u001b[0m\u001b[0;34m(\u001b[0m\u001b[0mag\u001b[0m\u001b[0;34m,\u001b[0m \u001b[0;34m**\u001b[0m\u001b[0mkwargs\u001b[0m\u001b[0;34m)\u001b[0m\u001b[0;34m\u001b[0m\u001b[0;34m\u001b[0m\u001b[0m\n\u001b[0m\u001b[1;32m    311\u001b[0m             \u001b[0mmol\u001b[0m \u001b[0;34m=\u001b[0m \u001b[0mcopy\u001b[0m\u001b[0;34m.\u001b[0m\u001b[0mdeepcopy\u001b[0m\u001b[0;34m(\u001b[0m\u001b[0mmol\u001b[0m\u001b[0;34m)\u001b[0m\u001b[0;34m\u001b[0m\u001b[0;34m\u001b[0m\u001b[0m\n\u001b[1;32m    312\u001b[0m         \u001b[0;32melse\u001b[0m\u001b[0;34m:\u001b[0m\u001b[0;34m\u001b[0m\u001b[0;34m\u001b[0m\u001b[0m\n",
      "\u001b[0;32m/mnt/c/Users/angel/Linux_programs/miniconda3/envs/AnalysisMD/lib/python3.7/site-packages/MDAnalysis/converters/RDKit.py\u001b[0m in \u001b[0;36matomgroup_to_mol\u001b[0;34m(ag, NoImplicit, max_iter, force)\u001b[0m\n\u001b[1;32m    437\u001b[0m         \u001b[0;31m# infer bond orders and formal charges from the connectivity\u001b[0m\u001b[0;34m\u001b[0m\u001b[0;34m\u001b[0m\u001b[0;34m\u001b[0m\u001b[0m\n\u001b[1;32m    438\u001b[0m         \u001b[0m_infer_bo_and_charges\u001b[0m\u001b[0;34m(\u001b[0m\u001b[0mmol\u001b[0m\u001b[0;34m)\u001b[0m\u001b[0;34m\u001b[0m\u001b[0;34m\u001b[0m\u001b[0m\n\u001b[0;32m--> 439\u001b[0;31m         \u001b[0mmol\u001b[0m \u001b[0;34m=\u001b[0m \u001b[0m_standardize_patterns\u001b[0m\u001b[0;34m(\u001b[0m\u001b[0mmol\u001b[0m\u001b[0;34m,\u001b[0m \u001b[0mmax_iter\u001b[0m\u001b[0;34m)\u001b[0m\u001b[0;34m\u001b[0m\u001b[0;34m\u001b[0m\u001b[0m\n\u001b[0m\u001b[1;32m    440\u001b[0m         \u001b[0;31m# reorder atoms to match MDAnalysis\u001b[0m\u001b[0;34m\u001b[0m\u001b[0;34m\u001b[0m\u001b[0;34m\u001b[0m\u001b[0m\n\u001b[1;32m    441\u001b[0m         order = np.argsort([atom.GetIntProp(\"_MDAnalysis_index\")\n",
      "\u001b[0;32m/mnt/c/Users/angel/Linux_programs/miniconda3/envs/AnalysisMD/lib/python3.7/site-packages/MDAnalysis/converters/RDKit.py\u001b[0m in \u001b[0;36m_standardize_patterns\u001b[0;34m(mol, max_iter)\u001b[0m\n\u001b[1;32m    732\u001b[0m \u001b[0;34m\u001b[0m\u001b[0m\n\u001b[1;32m    733\u001b[0m     \u001b[0mfragments\u001b[0m \u001b[0;34m=\u001b[0m \u001b[0;34m[\u001b[0m\u001b[0;34m]\u001b[0m\u001b[0;34m\u001b[0m\u001b[0;34m\u001b[0m\u001b[0m\n\u001b[0;32m--> 734\u001b[0;31m     \u001b[0;32mfor\u001b[0m \u001b[0mreactant\u001b[0m \u001b[0;32min\u001b[0m \u001b[0mChem\u001b[0m\u001b[0;34m.\u001b[0m\u001b[0mGetMolFrags\u001b[0m\u001b[0;34m(\u001b[0m\u001b[0mmol\u001b[0m\u001b[0;34m,\u001b[0m \u001b[0masMols\u001b[0m\u001b[0;34m=\u001b[0m\u001b[0;32mTrue\u001b[0m\u001b[0;34m)\u001b[0m\u001b[0;34m:\u001b[0m\u001b[0;34m\u001b[0m\u001b[0;34m\u001b[0m\u001b[0m\n\u001b[0m\u001b[1;32m    735\u001b[0m         \u001b[0;32mfor\u001b[0m \u001b[0mreaction\u001b[0m \u001b[0;32min\u001b[0m \u001b[0mreactions\u001b[0m\u001b[0;34m:\u001b[0m\u001b[0;34m\u001b[0m\u001b[0;34m\u001b[0m\u001b[0m\n\u001b[1;32m    736\u001b[0m             \u001b[0mreactant\u001b[0m \u001b[0;34m=\u001b[0m \u001b[0m_run_reaction\u001b[0m\u001b[0;34m(\u001b[0m\u001b[0mreaction\u001b[0m\u001b[0;34m,\u001b[0m \u001b[0mreactant\u001b[0m\u001b[0;34m)\u001b[0m\u001b[0;34m\u001b[0m\u001b[0;34m\u001b[0m\u001b[0m\n",
      "\u001b[0;31mAtomValenceException\u001b[0m: Explicit valence for atom # 1132 H, 2, is greater than permitted"
     ]
    }
   ],
   "source": [
    "# load protein\n",
    "prot = mda.Universe(\"1AZ8_clean.pdb\",guess_bonds=True)\n",
    "prot = plf.Molecule.from_mda(prot)\n",
    "prot.n_residues"
   ]
  },
  {
   "cell_type": "code",
   "execution_count": null,
   "id": "82b08d3e-2453-41d9-8c21-023757501e90",
   "metadata": {},
   "outputs": [],
   "source": [
    "# load ligands\n",
    "path = str('1AZ8_ligand_vina_out.sdf')\n",
    "lig_suppl = list(plf.sdf_supplier(path))\n",
    "# generate fingerprint\n",
    "fp = plf.Fingerprint()\n",
    "fp.run_from_iterable(lig_suppl, prot)\n",
    "df = fp.to_dataframe(return_atoms=True)\n",
    "df"
   ]
  },
  {
   "cell_type": "code",
   "execution_count": null,
   "id": "60090cbb-2fca-42f8-a325-173bebc22030",
   "metadata": {},
   "outputs": [],
   "source": [
    "\n",
    "\n",
    "#fp = plf.Fingerprint()\n",
    "#fp.run(u.trajectory[::10], lig, prot)\n",
    "#df = fp.to_dataframe(return_atoms=True)\n",
    "\n",
    "net = LigNetwork.from_ifp(df,lig_suppl[0],kind=\"frame\", frame=1,rotation=270)\n",
    "net.display()"
   ]
  },
  {
   "cell_type": "code",
   "execution_count": null,
   "id": "2ec5fe8f-e810-475d-9122-499e729813cc",
   "metadata": {},
   "outputs": [],
   "source": [
    "lig_suppl"
   ]
  },
  {
   "cell_type": "code",
   "execution_count": null,
   "id": "f1664766-bef5-4718-a072-0a356c82ba75",
   "metadata": {},
   "outputs": [],
   "source": [
    "!wget http://www.lephar.com/download/lepro_linux_x86\n",
    "!wget http://www.lephar.com/download/ledock_linux_x86"
   ]
  },
  {
   "cell_type": "code",
   "execution_count": 1,
   "id": "13e73174-9e26-424d-8abd-b8df3f37fc16",
   "metadata": {},
   "outputs": [],
   "source": [
    "!./lepro_linux_x86 1AZ8_clean.pdb"
   ]
  },
  {
   "cell_type": "code",
   "execution_count": null,
   "id": "3f41e304-0480-4f52-b26c-5d6a893dc22a",
   "metadata": {},
   "outputs": [],
   "source": [
    "X,Y,Z=getbox(selection='Lig',extending=5.0,software='ledock')"
   ]
  },
  {
   "cell_type": "code",
   "execution_count": null,
   "id": "b3053ec1-db71-4077-b2e5-ba8856d66703",
   "metadata": {},
   "outputs": [],
   "source": [
    "with open('dock.in') as file:\n",
    "    for line in file.readlines():\n",
    "        print(line.strip())"
   ]
  },
  {
   "cell_type": "code",
   "execution_count": null,
   "id": "4720d1c1-b883-4963-a230-763e6398ccc5",
   "metadata": {},
   "outputs": [],
   "source": []
  }
 ],
 "metadata": {
  "kernelspec": {
   "display_name": "AnalysisMD",
   "language": "python",
   "name": "analysismd"
  },
  "language_info": {
   "codemirror_mode": {
    "name": "ipython",
    "version": 3
   },
   "file_extension": ".py",
   "mimetype": "text/x-python",
   "name": "python",
   "nbconvert_exporter": "python",
   "pygments_lexer": "ipython3",
   "version": "3.7.10"
  }
 },
 "nbformat": 4,
 "nbformat_minor": 5
}
