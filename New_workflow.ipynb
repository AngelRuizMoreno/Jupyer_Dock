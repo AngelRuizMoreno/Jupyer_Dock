{
 "cells": [
  {
   "cell_type": "code",
   "execution_count": 1,
   "id": "3aa6b080-11bb-4672-a419-075c2b6d9bdf",
   "metadata": {
    "tags": []
   },
   "outputs": [
    {
     "name": "stderr",
     "output_type": "stream",
     "text": [
      "/home/angel/miniconda3/envs/JupyterDock/lib/python3.11/site-packages/MDAnalysis/topology/TPRParser.py:161: DeprecationWarning: 'xdrlib' is deprecated and slated for removal in Python 3.13\n",
      "  import xdrlib\n"
     ]
    }
   ],
   "source": [
    "from JupyterDock.Preparation import SanitizeProtein, SanitizeLigands, fetch_protein_from_pdb\n",
    "\n",
    "from JupyterDock.Docking import Docker\n",
    "\n",
    "from JupyterDock.Analysis import VisualizeDocking"
   ]
  },
  {
   "cell_type": "code",
   "execution_count": null,
   "id": "1a2216d4-fdc6-4fec-aa7e-1e006450635e",
   "metadata": {},
   "outputs": [],
   "source": [
    "fetch_protein_from_pdb(entry=\"1NDZ\")"
   ]
  },
  {
   "cell_type": "code",
   "execution_count": null,
   "id": "3ed7aefc-694f-44f4-8227-99915e8272a0",
   "metadata": {
    "tags": []
   },
   "outputs": [],
   "source": [
    "ProteinSanitizer=SanitizeProtein(protein_file='files/1NDZ_clean.pdb')"
   ]
  },
  {
   "cell_type": "code",
   "execution_count": null,
   "id": "c3a4cae9-7661-49cc-a35d-dc00e6aaabcc",
   "metadata": {
    "tags": []
   },
   "outputs": [],
   "source": [
    "ProteinSanitizer.pdbfixer_sanitization()"
   ]
  },
  {
   "cell_type": "code",
   "execution_count": null,
   "id": "ec2310f2-2cff-4eb2-970b-f8d29d235f15",
   "metadata": {
    "tags": []
   },
   "outputs": [],
   "source": [
    "LigandSanitizer=SanitizeLigands('files/1NDZ_lig.mol2')"
   ]
  },
  {
   "cell_type": "code",
   "execution_count": null,
   "id": "e030fe08-fb88-4dff-9fe0-ef1d7e7b8669",
   "metadata": {
    "tags": []
   },
   "outputs": [],
   "source": [
    "LigandSanitizer.run_sanitization()"
   ]
  },
  {
   "cell_type": "code",
   "execution_count": null,
   "id": "243cc95b-6389-429e-ba20-7957ebe4bc0a",
   "metadata": {
    "tags": []
   },
   "outputs": [],
   "source": [
    "LigandSanitizer.ligands[0]"
   ]
  },
  {
   "cell_type": "code",
   "execution_count": 2,
   "id": "e655a489-51e0-416d-85b7-42675cf770ff",
   "metadata": {
    "tags": []
   },
   "outputs": [],
   "source": [
    "RunDocking=Docker(receptor_file='files/1NDZ_clean_sanitized.pdb',ligands_file='files/1NDZ_lig_sanitized.mol2',selection='lig',extending=4)"
   ]
  },
  {
   "cell_type": "code",
   "execution_count": null,
   "id": "9e9d334f-62a3-407c-8549-67a270fb506d",
   "metadata": {
    "tags": []
   },
   "outputs": [],
   "source": [
    "RunDocking.run_smina()"
   ]
  },
  {
   "cell_type": "code",
   "execution_count": null,
   "id": "dfd01b43-c369-4dba-ad1b-668ceba41105",
   "metadata": {
    "tags": []
   },
   "outputs": [],
   "source": [
    "RunDocking.smina_params"
   ]
  },
  {
   "cell_type": "code",
   "execution_count": null,
   "id": "d3dad4f0-01ff-4d0f-9257-5e5e75b237f9",
   "metadata": {
    "tags": []
   },
   "outputs": [
    {
     "name": "stderr",
     "output_type": "stream",
     "text": [
      "==============================\n",
      "*** Open Babel Warning  in parseAtomRecord\n",
      "  WARNING: Problems reading a PDB file\n",
      "  Problems reading a HETATM or ATOM record.\n",
      "  According to the PDB specification,\n",
      "  columns 77-78 should contain the element symbol of an atom.\n",
      "  but OpenBabel found '  ' (atom 1)\n",
      "==============================\n",
      "*** Open Babel Warning  in parseAtomRecord\n",
      "  WARNING: Problems reading a PDB file\n",
      "  Problems reading a HETATM or ATOM record.\n",
      "  According to the PDB specification,\n",
      "  columns 77-78 should contain the element symbol of an atom.\n",
      "  but OpenBabel found '  ' (atom 2)\n",
      "==============================\n",
      "*** Open Babel Warning  in parseAtomRecord\n",
      "  WARNING: Problems reading a PDB file\n",
      "  Problems reading a HETATM or ATOM record.\n",
      "  According to the PDB specification,\n",
      "  columns 77-78 should contain the element symbol of an atom.\n",
      "  but OpenBabel found '  ' (atom 3)\n",
      "==============================\n",
      "*** Open Babel Warning  in parseAtomRecord\n",
      "  WARNING: Problems reading a PDB file\n",
      "  Problems reading a HETATM or ATOM record.\n",
      "  According to the PDB specification,\n",
      "  columns 77-78 should contain the element symbol of an atom.\n",
      "  but OpenBabel found '  ' (atom 4)\n",
      "==============================\n",
      "*** Open Babel Warning  in parseAtomRecord\n",
      "  WARNING: Problems reading a PDB file\n",
      "  Problems reading a HETATM or ATOM record.\n",
      "  According to the PDB specification,\n",
      "  columns 77-78 should contain the element symbol of an atom.\n",
      "  but OpenBabel found '  ' (atom 5)\n",
      "==============================\n",
      "*** Open Babel Warning  in parseAtomRecord\n",
      "  WARNING: Problems reading a PDB file\n",
      "  Problems reading a HETATM or ATOM record.\n",
      "  According to the PDB specification,\n",
      "  columns 77-78 should contain the element symbol of an atom.\n",
      "  but OpenBabel found '  ' (atom 6)\n",
      "==============================\n",
      "*** Open Babel Warning  in parseAtomRecord\n",
      "  WARNING: Problems reading a PDB file\n",
      "  Problems reading a HETATM or ATOM record.\n",
      "  According to the PDB specification,\n",
      "  columns 77-78 should contain the element symbol of an atom.\n",
      "  but OpenBabel found '  ' (atom 7)\n",
      "==============================\n",
      "*** Open Babel Warning  in parseAtomRecord\n",
      "  WARNING: Problems reading a PDB file\n",
      "  Problems reading a HETATM or ATOM record.\n",
      "  According to the PDB specification,\n",
      "  columns 77-78 should contain the element symbol of an atom.\n",
      "  but OpenBabel found '  ' (atom 8)\n",
      "==============================\n",
      "*** Open Babel Warning  in parseAtomRecord\n",
      "  WARNING: Problems reading a PDB file\n",
      "  Problems reading a HETATM or ATOM record.\n",
      "  According to the PDB specification,\n",
      "  columns 77-78 should contain the element symbol of an atom.\n",
      "  but OpenBabel found '  ' (atom 9)\n",
      "==============================\n",
      "*** Open Babel Warning  in parseAtomRecord\n",
      "  WARNING: Problems reading a PDB file\n",
      "  Problems reading a HETATM or ATOM record.\n",
      "  According to the PDB specification,\n",
      "  columns 77-78 should contain the element symbol of an atom.\n",
      "  but OpenBabel found '  ' (atom 10)\n",
      "==============================\n",
      "*** Open Babel Warning  in parseAtomRecord\n",
      "  WARNING: Problems reading a PDB file\n",
      "  Problems reading a HETATM or ATOM record.\n",
      "  According to the PDB specification,\n",
      "  columns 77-78 should contain the element symbol of an atom.\n",
      "  but OpenBabel found '  ' (atom 11)\n",
      "==============================\n",
      "*** Open Babel Warning  in parseAtomR"
     ]
    }
   ],
   "source": [
    "RunDocking.run_ledock()"
   ]
  },
  {
   "cell_type": "code",
   "execution_count": null,
   "id": "c0812827-a91a-4c0d-837a-b9510b198beb",
   "metadata": {
    "tags": []
   },
   "outputs": [],
   "source": []
  },
  {
   "cell_type": "code",
   "execution_count": null,
   "id": "8ede53a4-607a-4813-a0d9-bd8195737f5d",
   "metadata": {
    "tags": []
   },
   "outputs": [],
   "source": [
    "import os,re\n",
    "\n",
    "from openbabel import pybel\n",
    "\n",
    "from rdkit import Chem\n",
    "from rdkit.Chem import AllChem"
   ]
  },
  {
   "cell_type": "code",
   "execution_count": null,
   "id": "2dfe79d7-4cec-4296-b995-4370059bcd44",
   "metadata": {
    "tags": []
   },
   "outputs": [],
   "source": [
    "tmp_dir='_dock_tmp/'"
   ]
  },
  {
   "cell_type": "code",
   "execution_count": null,
   "id": "43509477-3839-4888-bfe1-63739562d66c",
   "metadata": {
    "tags": []
   },
   "outputs": [],
   "source": [
    "template=Chem.MolFromMol2File('_dock_tmp/1AZ8.mol2',removeHs=True)\n",
    "template"
   ]
  },
  {
   "cell_type": "code",
   "execution_count": null,
   "id": "c418c3aa-9408-413f-96dc-3acad593e9da",
   "metadata": {
    "tags": []
   },
   "outputs": [],
   "source": [
    "out_results=pybel.Outputfile(filename=f\"files/babel.sdf\",format=\"sdf\",overwrite=True)\n",
    "\n",
    "for dok_file in os.listdir(tmp_dir):\n",
    "    if 'dok' in dok_file:\n",
    "        with open(os.path.join(tmp_dir,dok_file), 'r') as f:\n",
    "            doc=f.readlines()\n",
    "            \n",
    "    \n",
    "        start=[index for (index,p) in enumerate(doc) if 'REMARK Cluster' in p]\n",
    "        end=[index-1 for (index,p) in enumerate(doc) if 'END' in p]\n",
    "\n",
    "        interval=list(zip(start,end))\n",
    "    \n",
    "        for index,pair in enumerate(interval):\n",
    "            block = \",\".join(doc[pair[0]:pair[1]]).replace(',','')\n",
    "            \n",
    "            mol=Chem.MolFromPDBBlock(block,removeHs=True,proximityBonding=True)\n",
    "            newMol = AllChem.AssignBondOrdersFromTemplate(template, mol)\n",
    "            print(index,newMol)\n",
    "            \n",
    "            #m=pybel.readstring(format='pdb',string=block,)\n",
    "            #print(m.data)\n",
    "            #m.title = dok_file.split('/')[-1].split('.')[0]\n",
    "            #m.data.update({'Pose':index+1})\n",
    "            #m.data.update({'Score':m.data['REMARK'].split()[6]})\n",
    "            #del m.data['REMARK']\n",
    "            #out_results.write(m)\n",
    "        \n",
    "    #out_results.close()"
   ]
  },
  {
   "cell_type": "code",
   "execution_count": null,
   "id": "f4d44a29-2aed-41a5-88ba-1b94d4e384d7",
   "metadata": {
    "tags": []
   },
   "outputs": [],
   "source": [
    "newMol"
   ]
  },
  {
   "cell_type": "code",
   "execution_count": null,
   "id": "167e65e5-79eb-4e4b-bbdf-ac4691d8fa86",
   "metadata": {
    "tags": []
   },
   "outputs": [],
   "source": [
    "mols[1]"
   ]
  },
  {
   "cell_type": "code",
   "execution_count": null,
   "id": "24c65e93-07c0-4264-aeb5-9de79d9a8173",
   "metadata": {
    "tags": []
   },
   "outputs": [],
   "source": [
    "m.data['REMARK'].split()[1]"
   ]
  },
  {
   "cell_type": "code",
   "execution_count": null,
   "id": "8a5a6af2-d25b-4da4-afc9-700a1383e993",
   "metadata": {
    "tags": []
   },
   "outputs": [],
   "source": [
    "Chem.MolToSmiles(mm)"
   ]
  },
  {
   "cell_type": "code",
   "execution_count": null,
   "id": "a12c41b0-08e2-42a1-bb65-2ba5e31b1bf3",
   "metadata": {},
   "outputs": [],
   "source": [
    "out_results=pybel.Outputfile(filename=f\"{self.ligands_file.split('.')[0]}_ledock_results.{self.out_format}\",format=self.out_format,overwrite=True)\n",
    "        \n",
    "\n",
    "\n",
    "        \n",
    "\n",
    "        \n",
    "\n",
    "        \n",
    "\n",
    "        for num,i in enumerate(interval):\n",
    "            block = \",\".join(doc[i[0]:i[1]]).replace(',','')\n",
    "\n",
    "\n",
    "            m=pybel.readstring(format='pdb',string=block)\n",
    "\n",
    "            m.title = dok_file.split('/')[-1].split('.')[0]\n",
    "            m.data.update({'Pose':m.data['REMARK'].split()[4]})\n",
    "            m.data.update({'Score':m.data['REMARK'].split()[6]})\n",
    "\n",
    "            del m.data['REMARK']\n",
    "\n",
    "            out_results.write(m)\n",
    "\n",
    "out_results.close()"
   ]
  },
  {
   "cell_type": "code",
   "execution_count": null,
   "id": "0c6fa311-abaa-4ec2-9509-128a87294607",
   "metadata": {},
   "outputs": [],
   "source": []
  },
  {
   "cell_type": "code",
   "execution_count": null,
   "id": "17443cff-485f-4cbc-ad60-6ddee2e7e882",
   "metadata": {},
   "outputs": [],
   "source": []
  },
  {
   "cell_type": "code",
   "execution_count": null,
   "id": "a848134f-f57f-4f10-943a-9328275c8d8e",
   "metadata": {
    "tags": []
   },
   "outputs": [],
   "source": [
    "view=VisualizeDocking(receptor='files/1AZ8_clean.pdb',ligands='files/1AZ8_lig_sanitized_ledock_results.sdf',reference='files/1AZ8_lig_sanitized.mol2',pose=1)"
   ]
  },
  {
   "cell_type": "code",
   "execution_count": null,
   "id": "8f4f45e6-053d-4cd2-8706-c02994a84fd1",
   "metadata": {
    "tags": []
   },
   "outputs": [],
   "source": [
    "v=view.view()"
   ]
  },
  {
   "cell_type": "code",
   "execution_count": null,
   "id": "43c8c52a-cdb1-4b63-9da3-3ec34293d385",
   "metadata": {
    "tags": []
   },
   "outputs": [],
   "source": [
    "v.show()"
   ]
  },
  {
   "cell_type": "code",
   "execution_count": null,
   "id": "f276ee60-130f-406a-8984-b50d35088e4c",
   "metadata": {
    "tags": []
   },
   "outputs": [],
   "source": [
    "import MDAnalysis as mda\n",
    "from MDAnalysis.coordinates import PDB\n",
    "\n",
    "import prolif as plf\n",
    "from prolif.plotting.network import LigNetwork\n"
   ]
  },
  {
   "cell_type": "code",
   "execution_count": null,
   "id": "b56ec847-4fd2-433e-91a6-8a9bf5ea4f25",
   "metadata": {
    "tags": []
   },
   "outputs": [],
   "source": [
    "# load protein\n",
    "prot = mda.Universe(\"files/1AZ8_clean_sanitized.pdb\")\n",
    "prot = plf.Molecule.from_mda(prot)\n",
    "prot.n_residues"
   ]
  },
  {
   "cell_type": "code",
   "execution_count": null,
   "id": "a8db3027-5e37-4eb7-b690-825e510cafa7",
   "metadata": {
    "tags": []
   },
   "outputs": [],
   "source": [
    "lig_suppl = list(plf.sdf_supplier('files/1AZ8_lig_sanitized_ledock_results.sdf'))"
   ]
  },
  {
   "cell_type": "code",
   "execution_count": null,
   "id": "3d4c4165-b440-4a9c-8bbe-216b0f26ee18",
   "metadata": {
    "tags": []
   },
   "outputs": [],
   "source": [
    "fp = plf.Fingerprint()"
   ]
  },
  {
   "cell_type": "code",
   "execution_count": null,
   "id": "e8a47d0d-2cce-48c7-ad23-33a0b58d527e",
   "metadata": {
    "tags": []
   },
   "outputs": [],
   "source": [
    "fp.run_from_iterable(lig_suppl, prot)"
   ]
  },
  {
   "cell_type": "code",
   "execution_count": null,
   "id": "f019c546-1b15-49fd-81df-f596a3a5793b",
   "metadata": {
    "tags": []
   },
   "outputs": [],
   "source": [
    "net = LigNetwork.from_ifp(results_df,lig_suppl[0],kind=\"frame\", frame=0,rotation=270)\n",
    "net.display()"
   ]
  },
  {
   "cell_type": "code",
   "execution_count": null,
   "id": "d58bfdfc-032c-44c2-9d21-32ba2b188e39",
   "metadata": {},
   "outputs": [],
   "source": []
  }
 ],
 "metadata": {
  "kernelspec": {
   "display_name": "JupyterDock",
   "language": "python",
   "name": "jupyterdock"
  },
  "language_info": {
   "codemirror_mode": {
    "name": "ipython",
    "version": 3
   },
   "file_extension": ".py",
   "mimetype": "text/x-python",
   "name": "python",
   "nbconvert_exporter": "python",
   "pygments_lexer": "ipython3",
   "version": "3.11.5"
  }
 },
 "nbformat": 4,
 "nbformat_minor": 5
}
