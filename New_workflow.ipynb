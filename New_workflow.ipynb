{
 "cells": [
  {
   "cell_type": "code",
   "execution_count": 1,
   "id": "3aa6b080-11bb-4672-a419-075c2b6d9bdf",
   "metadata": {
    "tags": []
   },
   "outputs": [
    {
     "name": "stderr",
     "output_type": "stream",
     "text": [
      "/home/angel/miniconda3/envs/JupyterDock/lib/python3.11/site-packages/MDAnalysis/topology/TPRParser.py:161: DeprecationWarning: 'xdrlib' is deprecated and slated for removal in Python 3.13\n",
      "  import xdrlib\n"
     ]
    }
   ],
   "source": [
    "from JupyterDock.Preparation import SanitizeProtein, SanitizeLigands\n",
    "\n",
    "from JupyterDock.Docking import Docker\n",
    "\n",
    "from JupyterDock.Analysis import VisualizeDocking"
   ]
  },
  {
   "cell_type": "code",
   "execution_count": null,
   "id": "3ed7aefc-694f-44f4-8227-99915e8272a0",
   "metadata": {
    "tags": []
   },
   "outputs": [],
   "source": [
    "ProteinSanitizer=SanitizeProtein(protein_file='files/1AZ8_clean.pdb')"
   ]
  },
  {
   "cell_type": "code",
   "execution_count": null,
   "id": "c3a4cae9-7661-49cc-a35d-dc00e6aaabcc",
   "metadata": {
    "tags": []
   },
   "outputs": [],
   "source": [
    "ProteinSanitizer.pdbfixer_sanitization()"
   ]
  },
  {
   "cell_type": "code",
   "execution_count": null,
   "id": "ec2310f2-2cff-4eb2-970b-f8d29d235f15",
   "metadata": {
    "tags": []
   },
   "outputs": [],
   "source": [
    "LigandSanitizer=SanitizeLigands('files/1AZ8_lig.mol2')"
   ]
  },
  {
   "cell_type": "code",
   "execution_count": null,
   "id": "e030fe08-fb88-4dff-9fe0-ef1d7e7b8669",
   "metadata": {
    "tags": []
   },
   "outputs": [],
   "source": [
    "LigandSanitizer.run_sanitization()"
   ]
  },
  {
   "cell_type": "code",
   "execution_count": null,
   "id": "243cc95b-6389-429e-ba20-7957ebe4bc0a",
   "metadata": {
    "tags": []
   },
   "outputs": [],
   "source": [
    "LigandSanitizer.ligands"
   ]
  },
  {
   "cell_type": "code",
   "execution_count": 12,
   "id": "db860cac-f25c-4fbf-a9f9-96545e7c9559",
   "metadata": {
    "tags": []
   },
   "outputs": [],
   "source": [
    "from rdkit import Chem\n",
    "\n",
    "import datamol"
   ]
  },
  {
   "cell_type": "code",
   "execution_count": 9,
   "id": "38e9c301-6b1e-4328-9576-e689cf06e8a7",
   "metadata": {
    "tags": []
   },
   "outputs": [
    {
     "name": "stderr",
     "output_type": "stream",
     "text": [
      "[11:56:52] sanitise [11:56:52] 1AZ8: [11:58:06] 1AZ8: Warning - no explicit hydrogens in mol2 file but needed for formal charge estimation.\n"
     ]
    },
    {
     "data": {
      "image/png": "[encoded data removed]",
      "text/plain": [
       "<rdkit.Chem.rdchem.Mol at 0x7f754deaa880>"
      ]
     },
     "execution_count": 9,
     "metadata": {},
     "output_type": "execute_result"
    }
   ],
   "source": [
    "m=Chem.MolFromMol2File('files/1AZ8_lig.mol2',False)\n",
    "m"
   ]
  },
  {
   "cell_type": "code",
   "execution_count": 24,
   "id": "61ab084e-0844-4dd0-bb3b-c61625093dd3",
   "metadata": {
    "tags": []
   },
   "outputs": [
    {
     "name": "stderr",
     "output_type": "stream",
     "text": [
      "[12:05:30] non-ring atom 1 marked aromatic\n",
      "[12:05:30] DEBUG: COC(O)CC(CCc1ccc(-c(n)n)cc1)c1cccc(-c(n)n)c1 failed due to non-ring atom 1 marked aromatic\n",
      "\n",
      "[12:05:30] non-ring atom 1 marked aromatic\n",
      "[12:05:30] WARNING: not removing hydrogen atom without neighbors\n",
      "[12:05:30] non-ring atom 1 marked aromatic\n",
      "[12:05:30] non-ring atom 1 marked aromatic\n",
      "[12:05:30] DEBUG: COC(O)CC(CCc1ccc(-c(n)n)cc1)c1cccc(-c(n)n)c1 failed due to non-ring atom 1 marked aromatic\n",
      "\n",
      "[12:05:30] non-ring atom 1 marked aromatic\n",
      "[12:05:30] Initializing Normalizer\n",
      "[12:05:30] Running Normalizer\n",
      "[12:05:30] non-ring atom 1 marked aromatic\n"
     ]
    },
    {
     "ename": "AtomKekulizeException",
     "evalue": "non-ring atom 1 marked aromatic",
     "output_type": "error",
     "traceback": [
      "\u001b[0;31m---------------------------------------------------------------------------\u001b[0m",
      "\u001b[0;31mAtomKekulizeException\u001b[0m                     Traceback (most recent call last)",
      "Cell \u001b[0;32mIn[24], line 5\u001b[0m\n\u001b[1;32m      2\u001b[0m mol \u001b[38;5;241m=\u001b[39m datamol\u001b[38;5;241m.\u001b[39msanitize_mol(m,charge_neutral\u001b[38;5;241m=\u001b[39m\u001b[38;5;28;01mTrue\u001b[39;00m,add_hs\u001b[38;5;241m=\u001b[39m\u001b[38;5;28;01mTrue\u001b[39;00m)\n\u001b[1;32m      3\u001b[0m mol \u001b[38;5;241m=\u001b[39m datamol\u001b[38;5;241m.\u001b[39mstandardize_mol(m)\n\u001b[0;32m----> 5\u001b[0m Chem\u001b[38;5;241m.\u001b[39mAllChem\u001b[38;5;241m.\u001b[39mKekulize(mol,clearAromaticFlags\u001b[38;5;241m=\u001b[39m\u001b[38;5;28;01mTrue\u001b[39;00m)\n",
      "\u001b[0;31mAtomKekulizeException\u001b[0m: non-ring atom 1 marked aromatic"
     ]
    }
   ],
   "source": [
    "mol = datamol.fix_mol(m)\n",
    "mol = datamol.sanitize_mol(m,charge_neutral=True,add_hs=True)\n",
    "mol = datamol.standardize_mol(m)\n",
    "\n",
    "Chem.AllChem.Kekulize(mol,clearAromaticFlags=True)"
   ]
  },
  {
   "cell_type": "code",
   "execution_count": 21,
   "id": "9482e95a-5855-4c26-bc4c-6adfb5960ea5",
   "metadata": {
    "tags": []
   },
   "outputs": [
    {
     "data": {
      "image/png": "[encoded data removed]",
      "text/plain": [
       "<rdkit.Chem.rdchem.Mol at 0x7f7547f711c0>"
      ]
     },
     "execution_count": 21,
     "metadata": {},
     "output_type": "execute_result"
    }
   ],
   "source": [
    "mol"
   ]
  },
  {
   "cell_type": "code",
   "execution_count": 23,
   "id": "e7c888d4-ab45-4024-801f-4fe7998d98f6",
   "metadata": {
    "tags": []
   },
   "outputs": [
    {
     "ename": "ArgumentError",
     "evalue": "Python argument types in\n    rdkit.Chem.rdmolfiles.MolToMolFile(str)\ndid not match C++ signature:\n    MolToMolFile(RDKit::ROMol mol, std::__cxx11::basic_string<char, std::char_traits<char>, std::allocator<char> > filename, bool includeStereo=True, int confId=-1, bool kekulize=True, bool forceV3000=False)",
     "output_type": "error",
     "traceback": [
      "\u001b[0;31m---------------------------------------------------------------------------\u001b[0m",
      "\u001b[0;31mArgumentError\u001b[0m                             Traceback (most recent call last)",
      "Cell \u001b[0;32mIn[23], line 1\u001b[0m\n\u001b[0;32m----> 1\u001b[0m Chem\u001b[38;5;241m.\u001b[39mMolToMolFile(\u001b[38;5;124m'\u001b[39m\u001b[38;5;124mfiles/rdkit.mol\u001b[39m\u001b[38;5;124m'\u001b[39m)\n",
      "\u001b[0;31mArgumentError\u001b[0m: Python argument types in\n    rdkit.Chem.rdmolfiles.MolToMolFile(str)\ndid not match C++ signature:\n    MolToMolFile(RDKit::ROMol mol, std::__cxx11::basic_string<char, std::char_traits<char>, std::allocator<char> > filename, bool includeStereo=True, int confId=-1, bool kekulize=True, bool forceV3000=False)"
     ]
    }
   ],
   "source": [
    "Chem.MolToMolFile('files/rdkit.mol')"
   ]
  },
  {
   "cell_type": "code",
   "execution_count": 2,
   "id": "e655a489-51e0-416d-85b7-42675cf770ff",
   "metadata": {
    "tags": []
   },
   "outputs": [],
   "source": [
    "RunDocking=Docker(receptor_file='files/1AZ8_clean_sanitized.pdb',ligands_file='files/1AZ8_lig_sanitized.mol2',selection='lig',extending=4)"
   ]
  },
  {
   "cell_type": "code",
   "execution_count": 3,
   "id": "9e9d334f-62a3-407c-8549-67a270fb506d",
   "metadata": {
    "tags": []
   },
   "outputs": [],
   "source": [
    "RunDocking.run_smina()"
   ]
  },
  {
   "cell_type": "code",
   "execution_count": null,
   "id": "dfd01b43-c369-4dba-ad1b-668ceba41105",
   "metadata": {
    "tags": []
   },
   "outputs": [],
   "source": [
    "docker.smina_params"
   ]
  },
  {
   "cell_type": "code",
   "execution_count": null,
   "id": "d3dad4f0-01ff-4d0f-9257-5e5e75b237f9",
   "metadata": {
    "tags": []
   },
   "outputs": [],
   "source": [
    "docker.run_ledock()"
   ]
  },
  {
   "cell_type": "code",
   "execution_count": null,
   "id": "c0812827-a91a-4c0d-837a-b9510b198beb",
   "metadata": {
    "tags": []
   },
   "outputs": [],
   "source": [
    "docker.ledock_params"
   ]
  },
  {
   "cell_type": "code",
   "execution_count": null,
   "id": "6ea45daa-ecd1-403b-a8f8-4a0dd1e6447b",
   "metadata": {
    "tags": []
   },
   "outputs": [],
   "source": []
  },
  {
   "cell_type": "code",
   "execution_count": null,
   "id": "a848134f-f57f-4f10-943a-9328275c8d8e",
   "metadata": {
    "tags": []
   },
   "outputs": [],
   "source": [
    "view=VisualizeDocking(receptor='files/1AZ8_clean.pdb',ligands='files/1AZ8_lig_sanitized_ledock_results.sdf',reference='files/1AZ8_lig_sanitized.mol2',pose=1)"
   ]
  },
  {
   "cell_type": "code",
   "execution_count": null,
   "id": "8f4f45e6-053d-4cd2-8706-c02994a84fd1",
   "metadata": {
    "tags": []
   },
   "outputs": [],
   "source": [
    "v=view.view()"
   ]
  },
  {
   "cell_type": "code",
   "execution_count": null,
   "id": "43c8c52a-cdb1-4b63-9da3-3ec34293d385",
   "metadata": {
    "tags": []
   },
   "outputs": [],
   "source": [
    "v.show()"
   ]
  },
  {
   "cell_type": "code",
   "execution_count": null,
   "id": "f276ee60-130f-406a-8984-b50d35088e4c",
   "metadata": {
    "tags": []
   },
   "outputs": [],
   "source": [
    "import MDAnalysis as mda\n",
    "from MDAnalysis.coordinates import PDB\n",
    "\n",
    "import prolif as plf\n",
    "from prolif.plotting.network import LigNetwork\n"
   ]
  },
  {
   "cell_type": "code",
   "execution_count": null,
   "id": "b56ec847-4fd2-433e-91a6-8a9bf5ea4f25",
   "metadata": {
    "tags": []
   },
   "outputs": [],
   "source": [
    "# load protein\n",
    "prot = mda.Universe(\"files/1AZ8_clean_sanitized.pdb\")\n",
    "prot = plf.Molecule.from_mda(prot)\n",
    "prot.n_residues"
   ]
  },
  {
   "cell_type": "code",
   "execution_count": null,
   "id": "a8db3027-5e37-4eb7-b690-825e510cafa7",
   "metadata": {
    "tags": []
   },
   "outputs": [],
   "source": [
    "lig_suppl = list(plf.sdf_supplier('files/1AZ8_lig_sanitized_ledock_results.sdf'))"
   ]
  },
  {
   "cell_type": "code",
   "execution_count": null,
   "id": "3d4c4165-b440-4a9c-8bbe-216b0f26ee18",
   "metadata": {
    "tags": []
   },
   "outputs": [],
   "source": [
    "fp = plf.Fingerprint()"
   ]
  },
  {
   "cell_type": "code",
   "execution_count": null,
   "id": "e8a47d0d-2cce-48c7-ad23-33a0b58d527e",
   "metadata": {
    "tags": []
   },
   "outputs": [],
   "source": [
    "fp.run_from_iterable(lig_suppl, prot)"
   ]
  },
  {
   "cell_type": "code",
   "execution_count": null,
   "id": "f019c546-1b15-49fd-81df-f596a3a5793b",
   "metadata": {
    "tags": []
   },
   "outputs": [],
   "source": [
    "net = LigNetwork.from_ifp(results_df,lig_suppl[0],kind=\"frame\", frame=0,rotation=270)\n",
    "net.display()"
   ]
  },
  {
   "cell_type": "code",
   "execution_count": null,
   "id": "d58bfdfc-032c-44c2-9d21-32ba2b188e39",
   "metadata": {},
   "outputs": [],
   "source": []
  }
 ],
 "metadata": {
  "kernelspec": {
   "display_name": "JupyterDock",
   "language": "python",
   "name": "jupyterdock"
  },
  "language_info": {
   "codemirror_mode": {
    "name": "ipython",
    "version": 3
   },
   "file_extension": ".py",
   "mimetype": "text/x-python",
   "name": "python",
   "nbconvert_exporter": "python",
   "pygments_lexer": "ipython3",
   "version": "3.11.5"
  }
 },
 "nbformat": 4,
 "nbformat_minor": 5
}
