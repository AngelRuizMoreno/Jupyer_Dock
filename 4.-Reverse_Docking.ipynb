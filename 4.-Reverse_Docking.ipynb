{
 "cells": [
  {
   "cell_type": "code",
   "execution_count": 1,
   "id": "2bd65438-6a23-4746-a496-617e7588bcdb",
   "metadata": {},
   "outputs": [],
   "source": [
    "from pymol import cmd\n",
    "import py3Dmol\n",
    "\n",
    "from vina import Vina\n",
    "\n",
    "import pandas as pd\n",
    "import numpy as np\n",
    "\n",
    "from openbabel import pybel\n",
    "\n",
    "from rdkit import Chem\n",
    "from rdkit.Chem import AllChem,rdFMCS, Draw\n",
    "\n",
    "from meeko import MoleculePreparation\n",
    "from meeko import obutils\n",
    "\n",
    "import MDAnalysis as mda\n",
    "from MDAnalysis.coordinates import PDB\n",
    "\n",
    "import prolif as plf\n",
    "from prolif.plotting.network import LigNetwork\n",
    "\n",
    "\n",
    "import sys, os, random\n",
    "sys.path.insert(1, 'utilities/')\n",
    "\n",
    "from multiprocessing import Pool\n",
    "\n",
    "from utils import fix_protein, getbox, generate_ledock_file, dok_to_sdf\n",
    "\n",
    "import warnings\n",
    "warnings.filterwarnings(\"ignore\")\n",
    "\n",
    "%config Completer.use_jedi = False"
   ]
  },
  {
   "cell_type": "code",
   "execution_count": 2,
   "id": "71183750-db93-439b-a19e-d8f6ad45bacb",
   "metadata": {},
   "outputs": [],
   "source": [
    "os.chdir('test/Reverse_Docking/')"
   ]
  },
  {
   "cell_type": "code",
   "execution_count": 3,
   "id": "509c9269-a552-44a1-90dc-96d746d45a86",
   "metadata": {},
   "outputs": [],
   "source": [
    "targets=['3LM5','2O3P','6M89','6QCD']"
   ]
  },
  {
   "cell_type": "code",
   "execution_count": 4,
   "id": "5cb503dd-4150-420b-bcb5-c2e036419312",
   "metadata": {},
   "outputs": [
    {
     "name": "stdout",
     "output_type": "stream",
     "text": [
      " PyMOL not running, entering library mode (experimental)\n"
     ]
    }
   ],
   "source": [
    "for pdb_code in targets:\n",
    "    cmd.fetch(code=pdb_code,type='pdb1')\n",
    "    cmd.select(name='Prot',selection='polymer.protein')\n",
    "    cmd.save(filename='clean_targets/'+pdb_code+'_clean.pdb',format='pdb',selection='Prot')\n",
    "    cmd.delete('all')\n",
    "    \n",
    "    fix_protein(filename='clean_targets/'+pdb_code+'_clean.pdb',addHs_pH=7.4,try_renumberResidues=True,output='clean_targets/'+pdb_code+'_clean_H.pdb')"
   ]
  },
  {
   "cell_type": "code",
   "execution_count": 5,
   "id": "86af1afb-a1a1-43e3-ab94-52103ce7ca7c",
   "metadata": {},
   "outputs": [],
   "source": [
    "ligand='c1cc(c(cc1C2=C(C(=O)c3c(cc(cc3O2)O)O)O)O)O'"
   ]
  },
  {
   "cell_type": "code",
   "execution_count": 6,
   "id": "be94dce5-0d41-40fc-8263-5c187b0684f2",
   "metadata": {},
   "outputs": [],
   "source": [
    "mol=pybel.readstring(string=ligand,format='smiles')\n",
    "mol.make3D()\n",
    "out=pybel.Outputfile(filename='Quercetin.mol2',format='mol2',overwrite=True)\n",
    "out.write(mol)\n",
    "out.close()"
   ]
  },
  {
   "cell_type": "code",
   "execution_count": 11,
   "id": "08ab4736-ee14-4aac-bdaf-3b969f9ecaf6",
   "metadata": {},
   "outputs": [],
   "source": [
    "for clean_pdb in os.listdir('clean_targets/'):\n",
    "    if 'H' in clean_pdb:\n",
    "        !../../bin/fpocket -f {'clean_targets/'+clean_pdb} -d > {'targets_pockets/'+clean_pdb.split('_')[0] +'.csv'}"
   ]
  },
  {
   "cell_type": "code",
   "execution_count": null,
   "id": "3a63cecb-a24e-475b-af5d-847cad575bbb",
   "metadata": {},
   "outputs": [],
   "source": []
  }
 ],
 "metadata": {
  "kernelspec": {
   "display_name": "AnalysisMD",
   "language": "python",
   "name": "analysismd"
  },
  "language_info": {
   "codemirror_mode": {
    "name": "ipython",
    "version": 3
   },
   "file_extension": ".py",
   "mimetype": "text/x-python",
   "name": "python",
   "nbconvert_exporter": "python",
   "pygments_lexer": "ipython3",
   "version": "3.7.10"
  }
 },
 "nbformat": 4,
 "nbformat_minor": 5
}
