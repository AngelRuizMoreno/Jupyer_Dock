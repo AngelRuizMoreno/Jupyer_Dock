{
 "cells": [
  {
   "cell_type": "markdown",
   "id": "c6d478af-e6f8-4260-98d4-eb4c8326efd1",
   "metadata": {},
   "source": [
    "# **Molecular Docking integrated in Jupyter Notebooks**"
   ]
  },
  {
   "cell_type": "markdown",
   "id": "e942fe53-fe5f-4a93-9945-1f6fa23729d7",
   "metadata": {},
   "source": [
    "![logo](img/logo.jpg)"
   ]
  },
  {
   "cell_type": "markdown",
   "id": "53e5bfbf-2573-4790-84e7-f87271cfe4ee",
   "metadata": {},
   "source": [
    "A set of Jupyter Notebooks for performing molecular docking protocols interactively, as well as visualizing and analyzing the results.\n",
    "\n",
    "These notebooks should be compatible with Python 3.\n",
    "\n",
    "Question about usage or troubleshooting? Please leave a comment here."
   ]
  },
  {
   "cell_type": "markdown",
   "id": "2ee63cfc-e808-446f-a3db-9b477bcedf1b",
   "metadata": {},
   "source": [
    "## Table of content\n",
    "\n",
    "- [**Installation**](#installation)\n",
    "\n",
    "- **Requirements**\n",
    "\n",
    "- **Limitations**\n",
    "\n",
    "- **Examples (How to)**\n",
    "\n",
    "- **Citation**\n",
    "\n",
    "- **License**\n"
   ]
  },
  {
   "cell_type": "markdown",
   "id": "c6a53dc2-cd13-444f-bb8b-31c501b17bfa",
   "metadata": {},
   "source": [
    "## Installation \n",
    "\n",
    "- Available as GitHub repo:\n",
    "\n",
    "```\n",
    "$git clone https://github.com/AngelRuizMoreno/Jupyter_Dock.git\n",
    "$cd Jupyter_Dock\n",
    "$conda env create -f Jupyter_Dock.yml\n",
    "```\n",
    "\n",
    "After installing the prerequisites, you can activate the conda environment and run/modify the Jupyter Notebooks."
   ]
  },
  {
   "cell_type": "markdown",
   "id": "3d4610ba-0d7d-4af4-960e-ebd7c624eead",
   "metadata": {},
   "source": [
    "## License\n",
    "These notebooks are under MIT, see the LICENSE file for details."
   ]
  },
  {
   "cell_type": "code",
   "execution_count": null,
   "id": "68f7cd71-a5d9-427d-bec4-71464bfba0ef",
   "metadata": {},
   "outputs": [],
   "source": []
  }
 ],
 "metadata": {
  "kernelspec": {
   "display_name": "AnalysisMD",
   "language": "python",
   "name": "analysismd"
  },
  "language_info": {
   "codemirror_mode": {
    "name": "ipython",
    "version": 3
   },
   "file_extension": ".py",
   "mimetype": "text/x-python",
   "name": "python",
   "nbconvert_exporter": "python",
   "pygments_lexer": "ipython3",
   "version": "3.7.10"
  }
 },
 "nbformat": 4,
 "nbformat_minor": 5
}
